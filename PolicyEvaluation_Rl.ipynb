{
  "nbformat": 4,
  "nbformat_minor": 0,
  "metadata": {
    "colab": {
      "name": "PolicyEvaluation-Rl.ipynb",
      "version": "0.3.2",
      "provenance": [],
      "collapsed_sections": [],
      "include_colab_link": true
    },
    "kernelspec": {
      "name": "python3",
      "display_name": "Python 3"
    }
  },
  "cells": [
    {
      "cell_type": "markdown",
      "metadata": {
        "id": "view-in-github",
        "colab_type": "text"
      },
      "source": [
        "[View in Colaboratory](https://colab.research.google.com/github/Kristian209/Move37_rlhw/blob/master/PolicyEvaluation_Rl.ipynb)"
      ]
    },
    {
      "metadata": {
        "id": "PuBs3cRB4sUp",
        "colab_type": "code",
        "colab": {}
      },
      "cell_type": "code",
      "source": [
        "import numpy as np\n",
        "import pprint\n",
        "import sys\n",
        "import gym.spaces\n",
        "if \"../\" not in sys.path:\n",
        "  sys.path.append(\"../\") \n",
        "from gridworld import GridworldEnv"
      ],
      "execution_count": 0,
      "outputs": []
    },
    {
      "metadata": {
        "id": "en1WOtOd9NLR",
        "colab_type": "code",
        "colab": {}
      },
      "cell_type": "code",
      "source": [
        "pp = pprint.PrettyPrinter(indent=2)\n",
        "env = GridworldEnv()"
      ],
      "execution_count": 0,
      "outputs": []
    },
    {
      "metadata": {
        "id": "M3VRdJtr9xNJ",
        "colab_type": "code",
        "colab": {}
      },
      "cell_type": "code",
      "source": [
        "def policy_eval(policy, env, discount_factor=1.0, theta=0.00001):\n",
        "    # Start with a random (all 0) value function\n",
        "    V = np.zeros(env.nS)\n",
        "    while True:\n",
        "        delta = 0\n",
        "        # For each state, perform a \"full backup\"\n",
        "        for s in range(env.nS):\n",
        "            v = 0\n",
        "            # Look at the possible next actions\n",
        "            for a, action_prob in enumerate(policy[s]):\n",
        "                # For each action, look at the possible next states...\n",
        "                for  prob, next_state, reward, done in env.P[s][a]:\n",
        "                    # Calculate the expected value. Ref: Sutton book eq. 4.6.\n",
        "                    v += action_prob * prob * (reward + discount_factor * V[next_state])\n",
        "            # How much our value function changed (across any states)\n",
        "            delta = max(delta, np.abs(v - V[s]))\n",
        "            V[s] = v\n",
        "        # Stop evaluating once our value function change is below a threshold\n",
        "        if delta < theta:\n",
        "            break\n",
        "    return np.array(V)\n",
        "      "
      ],
      "execution_count": 0,
      "outputs": []
    },
    {
      "metadata": {
        "id": "YELPz2dsE8v3",
        "colab_type": "code",
        "colab": {}
      },
      "cell_type": "code",
      "source": [
        "random_policy = np.ones([env.nS, env.nA]) / env.nA\n",
        "v = policy_eval(random_policy, env)"
      ],
      "execution_count": 0,
      "outputs": []
    },
    {
      "metadata": {
        "id": "Zi7KpaVXF6_N",
        "colab_type": "code",
        "colab": {
          "base_uri": "https://localhost:8080/",
          "height": 218
        },
        "outputId": "faf003d3-bac2-4421-e817-f16d8c1bd186"
      },
      "cell_type": "code",
      "source": [
        "print(\"Value Function\")\n",
        "print(v)\n",
        "print(\"\")\n",
        "\n",
        "print(\"Reshaped Grid Value Function\")\n",
        "print(v.reshape(env.shape))\n",
        "print(\"\")"
      ],
      "execution_count": 41,
      "outputs": [
        {
          "output_type": "stream",
          "text": [
            "Value Function\n",
            "[  0.         -13.99993529 -19.99990698 -21.99989761 -13.99993529\n",
            " -17.9999206  -19.99991379 -19.99991477 -19.99990698 -19.99991379\n",
            " -17.99992725 -13.99994569 -21.99989761 -19.99991477 -13.99994569\n",
            "   0.        ]\n",
            "\n",
            "Reshaped Grid Value Function\n",
            "[[  0.         -13.99993529 -19.99990698 -21.99989761]\n",
            " [-13.99993529 -17.9999206  -19.99991379 -19.99991477]\n",
            " [-19.99990698 -19.99991379 -17.99992725 -13.99994569]\n",
            " [-21.99989761 -19.99991477 -13.99994569   0.        ]]\n",
            "\n"
          ],
          "name": "stdout"
        }
      ]
    }
  ]
}